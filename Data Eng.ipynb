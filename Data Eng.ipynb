{
 "cells": [
  {
   "cell_type": "code",
   "execution_count": 1,
   "metadata": {
    "colab": {
     "base_uri": "https://localhost:8080/"
    },
    "id": "s5RN5PfG5kF2",
    "outputId": "46aa60a9-c036-477a-e353-535e580928eb"
   },
   "outputs": [],
   "source": [
    "import sqlite3\n",
    "import pandas as pd"
   ]
  },
  {
   "cell_type": "code",
   "execution_count": 2,
   "metadata": {},
   "outputs": [],
   "source": [
    "conn = sqlite3.connect('data.db')"
   ]
  },
  {
   "cell_type": "code",
   "execution_count": 3,
   "metadata": {},
   "outputs": [
    {
     "data": {
      "text/plain": [
       "<sqlite3.Cursor at 0x1ad56247f80>"
      ]
     },
     "execution_count": 3,
     "metadata": {},
     "output_type": "execute_result"
    }
   ],
   "source": [
    "# Create Table\n",
    "conn.execute('''CREATE TABLE Hospital_record(\n",
    "    Customer_Name VARCHAR(255) NOT NULL,\n",
    "    Customer_Id VARCHAR(18) PRIMARY KEY NOT NULL,\n",
    "    Open_Date DATE(8) NOT NULL,\n",
    "    Last_Consulted_Date DATE(8),\n",
    "    Vaccination_Type CHAR(5),\n",
    "    Doctor_Consulted CHAR(255),\n",
    "    State CHAR(5),\n",
    "    Country CHAR(5),\n",
    "    Post_Code INT(5),\n",
    "    DOB DATE(8),\n",
    "    Active_Customer CHAR(1))\n",
    "    ''')"
   ]
  },
  {
   "cell_type": "code",
   "execution_count": 4,
   "metadata": {
    "colab": {
     "base_uri": "https://localhost:8080/"
    },
    "id": "eIJgRs4D58kk",
    "outputId": "cd38f00f-08e7-495e-9bb6-e601e4924a5c"
   },
   "outputs": [
    {
     "data": {
      "text/plain": [
       "<sqlite3.Cursor at 0x1ad56247f10>"
      ]
     },
     "execution_count": 4,
     "metadata": {},
     "output_type": "execute_result"
    }
   ],
   "source": [
    "#insert data\n",
    "conn.execute('''INSERT INTO hospital_record VALUES ('Alex','123457','20101012','20121013','MVD','Paul','SA','USA',42516,'06031987','A')''')\n",
    "conn.execute('''INSERT INTO hospital_record VALUES ('John','123458','20101012','20121013','MVD','Paul','TN','IND',42587,'06031987','A')''')\n",
    "conn.execute('''INSERT INTO hospital_record VALUES ('Mathew','123459','20101012','20121013','MVD','Paul','WAS','PHIL',45289,'06031987','A')''')\n",
    "conn.execute('''INSERT INTO hospital_record VALUES ('Matt','12345','20101012','20121013','MVD','Paul','BOS','NYC',45127,'06031987','A')''')\n",
    "conn.execute('''INSERT INTO hospital_record VALUES ('Jacob','1256','20101012','20121013','MVD','Paul','VIC','AU',49875,'06031987','A')''')"
   ]
  },
  {
   "cell_type": "code",
   "execution_count": 5,
   "metadata": {
    "id": "ENe4YLhk6egp"
   },
   "outputs": [],
   "source": [
    "# Dataload in CSV\n",
    "query1 = '''select * from Hospital_record'''\n",
    "df = pd.read_sql_query(query1,conn)\n",
    "dataframe = pd.DataFrame(df)\n",
    "dataframe.to_csv(\"hospital_records.csv\",sep='|',index=False)"
   ]
  },
  {
   "cell_type": "code",
   "execution_count": 6,
   "metadata": {
    "colab": {
     "base_uri": "https://localhost:8080/"
    },
    "id": "k86C6bGX7PrX",
    "outputId": "021bd852-e466-4989-ad0d-582eed0dcd0d"
   },
   "outputs": [
    {
     "data": {
      "text/html": [
       "<div>\n",
       "<style scoped>\n",
       "    .dataframe tbody tr th:only-of-type {\n",
       "        vertical-align: middle;\n",
       "    }\n",
       "\n",
       "    .dataframe tbody tr th {\n",
       "        vertical-align: top;\n",
       "    }\n",
       "\n",
       "    .dataframe thead th {\n",
       "        text-align: right;\n",
       "    }\n",
       "</style>\n",
       "<table border=\"1\" class=\"dataframe\">\n",
       "  <thead>\n",
       "    <tr style=\"text-align: right;\">\n",
       "      <th></th>\n",
       "      <th>Customer_Name|Customer_Id|Open_Date|Last_Consulted_Date|Vaccination_Type|Doctor_Consulted|State|Country|Post_Code|DOB|Active_Customer</th>\n",
       "    </tr>\n",
       "  </thead>\n",
       "  <tbody>\n",
       "    <tr>\n",
       "      <th>0</th>\n",
       "      <td>Alex|123457|20101012|20121013|MVD|Paul|SA|USA|...</td>\n",
       "    </tr>\n",
       "    <tr>\n",
       "      <th>1</th>\n",
       "      <td>John|123458|20101012|20121013|MVD|Paul|TN|IND|...</td>\n",
       "    </tr>\n",
       "    <tr>\n",
       "      <th>2</th>\n",
       "      <td>Mathew|123459|20101012|20121013|MVD|Paul|WAS|P...</td>\n",
       "    </tr>\n",
       "    <tr>\n",
       "      <th>3</th>\n",
       "      <td>Matt|12345|20101012|20121013|MVD|Paul|BOS|NYC|...</td>\n",
       "    </tr>\n",
       "    <tr>\n",
       "      <th>4</th>\n",
       "      <td>Jacob|1256|20101012|20121013|MVD|Paul|VIC|AU|4...</td>\n",
       "    </tr>\n",
       "  </tbody>\n",
       "</table>\n",
       "</div>"
      ],
      "text/plain": [
       "  Customer_Name|Customer_Id|Open_Date|Last_Consulted_Date|Vaccination_Type|Doctor_Consulted|State|Country|Post_Code|DOB|Active_Customer\n",
       "0  Alex|123457|20101012|20121013|MVD|Paul|SA|USA|...                                                                                   \n",
       "1  John|123458|20101012|20121013|MVD|Paul|TN|IND|...                                                                                   \n",
       "2  Mathew|123459|20101012|20121013|MVD|Paul|WAS|P...                                                                                   \n",
       "3  Matt|12345|20101012|20121013|MVD|Paul|BOS|NYC|...                                                                                   \n",
       "4  Jacob|1256|20101012|20121013|MVD|Paul|VIC|AU|4...                                                                                   "
      ]
     },
     "execution_count": 6,
     "metadata": {},
     "output_type": "execute_result"
    }
   ],
   "source": [
    "data = pd.read_csv(\"hospital_record.csv\")\n",
    "data"
   ]
  },
  {
   "cell_type": "code",
   "execution_count": 8,
   "metadata": {
    "id": "nN4D9K2j7XJC"
   },
   "outputs": [
    {
     "data": {
      "text/plain": [
       "<sqlite3.Cursor at 0x1ad59d0e6c0>"
      ]
     },
     "execution_count": 8,
     "metadata": {},
     "output_type": "execute_result"
    }
   ],
   "source": [
    "# Distinct countries\n",
    "query2='''SELECT DISTINCT Country FROM Hospital_record'''\n",
    "Countries = conn.execute(query2)\n",
    "Countries"
   ]
  },
  {
   "cell_type": "code",
   "execution_count": 9,
   "metadata": {
    "id": "AneA-Bru744y"
   },
   "outputs": [
    {
     "data": {
      "text/plain": [
       "['USA', 'IND', 'PHIL', 'NYC', 'AU']"
      ]
     },
     "execution_count": 9,
     "metadata": {},
     "output_type": "execute_result"
    }
   ],
   "source": [
    "countrie = []\n",
    "for i in Countries:\n",
    "  countrie.append(i[0])\n",
    "countrie"
   ]
  },
  {
   "cell_type": "code",
   "execution_count": 10,
   "metadata": {
    "id": "Hi9FJNOA8AN0"
   },
   "outputs": [],
   "source": [
    "# Create Table Per Country wise\n",
    "for i in range(len(countrie)):\n",
    "  conn.execute('CREATE TABLE \"{}\" AS SELECT * FROM Hospital_record WHERE Country = \"{}\"'.format(countrie[i],countrie[i]))"
   ]
  },
  {
   "cell_type": "code",
   "execution_count": 11,
   "metadata": {
    "colab": {
     "base_uri": "https://localhost:8080/"
    },
    "id": "mrtNI0dm8eyK",
    "outputId": "4bdbb32d-a89e-400f-cc47-044b385fcb71"
   },
   "outputs": [
    {
     "name": "stdout",
     "output_type": "stream",
     "text": [
      "('John', '123458', 20101012, 20121013, 'MVD', 'Paul', 'TN', 'IND', 42587, 6031987, 'A')\n"
     ]
    }
   ],
   "source": [
    "# Example For India Country\n",
    "country = conn.execute('''select * from IND''')\n",
    "for row in country:\n",
    "  print(row)"
   ]
  },
  {
   "cell_type": "code",
   "execution_count": null,
   "metadata": {},
   "outputs": [],
   "source": []
  }
 ],
 "metadata": {
  "colab": {
   "name": "Assesment.ipynb",
   "provenance": []
  },
  "kernelspec": {
   "display_name": "Python 3",
   "language": "python",
   "name": "python3"
  },
  "language_info": {
   "codemirror_mode": {
    "name": "ipython",
    "version": 3
   },
   "file_extension": ".py",
   "mimetype": "text/x-python",
   "name": "python",
   "nbconvert_exporter": "python",
   "pygments_lexer": "ipython3",
   "version": "3.8.8"
  }
 },
 "nbformat": 4,
 "nbformat_minor": 1
}
